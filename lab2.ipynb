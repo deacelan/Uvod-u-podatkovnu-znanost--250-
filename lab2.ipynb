{
 "cells": [
  {
   "cell_type": "markdown",
   "metadata": {
    "id": "fTHck9JJ2UG6"
   },
   "source": [
    "<center><h1> Uvod u podatkovnu znanost  </h1></center>\n",
    "<center><h2> Zimski semestar - 2022 </h2></center> \n",
    "<center><h3> Lab 2</h3></center> \n",
    "<center><h3> </h3></center> \n",
    "<center><h3> NumPy, Matplotlib</h3></center> \n",
    "\n"
   ]
  },
  {
   "cell_type": "markdown",
   "metadata": {
    "id": "dhNcWgxaBJuz"
   },
   "source": [
    "## NUMPY"
   ]
  },
  {
   "cell_type": "markdown",
   "metadata": {
    "id": "2B7qsN1X118_"
   },
   "source": [
    "### Instalacija\n",
    "Na Google colab numpy je već instaliran"
   ]
  },
  {
   "cell_type": "code",
   "execution_count": 1,
   "metadata": {
    "id": "uVx-mfQ66K3x"
   },
   "outputs": [
    {
     "name": "stdout",
     "output_type": "stream",
     "text": [
      "Defaulting to user installation because normal site-packages is not writeable\n",
      "Requirement already satisfied: numpy in ./.local/lib/python3.6/site-packages (1.19.5)\n"
     ]
    }
   ],
   "source": [
    "!pip install numpy"
   ]
  },
  {
   "cell_type": "markdown",
   "metadata": {
    "id": "lKjFMJwP_4AT"
   },
   "source": [
    "### Import"
   ]
  },
  {
   "cell_type": "markdown",
   "metadata": {
    "id": "73BnScqKzAuz"
   },
   "source": [
    "The alias `np` je konvencija koje većinom upotrebljava"
   ]
  },
  {
   "cell_type": "code",
   "execution_count": 2,
   "metadata": {
    "id": "I_Riakur6LH4"
   },
   "outputs": [],
   "source": [
    "import numpy as np"
   ]
  },
  {
   "cell_type": "markdown",
   "metadata": {
    "id": "S5uSdKsMMyE0"
   },
   "source": [
    "### [1] Kreiranje array-a "
   ]
  },
  {
   "cell_type": "markdown",
   "metadata": {
    "id": "Ox3NLEvFozwd"
   },
   "source": [
    "Niz iz liste"
   ]
  },
  {
   "cell_type": "code",
   "execution_count": 12,
   "metadata": {
    "id": "V1o8Cf3B6LSI"
   },
   "outputs": [],
   "source": [
    "my_list = [i for i in range(36)]\n",
    "np_array = np.array(my_list)"
   ]
  },
  {
   "cell_type": "code",
   "execution_count": 6,
   "metadata": {
    "id": "Z2E7LVfW5mHr"
   },
   "outputs": [
    {
     "data": {
      "text/plain": [
       "numpy.ndarray"
      ]
     },
     "execution_count": 6,
     "metadata": {},
     "output_type": "execute_result"
    }
   ],
   "source": [
    "np_array.__class__"
   ]
  },
  {
   "cell_type": "code",
   "execution_count": 7,
   "metadata": {
    "id": "xNIHrKpb6Lbz"
   },
   "outputs": [
    {
     "data": {
      "text/plain": [
       "(36,)"
      ]
     },
     "execution_count": 7,
     "metadata": {},
     "output_type": "execute_result"
    }
   ],
   "source": [
    "np_array.shape"
   ]
  },
  {
   "cell_type": "code",
   "execution_count": 8,
   "metadata": {
    "id": "jpdq2jfL33er"
   },
   "outputs": [
    {
     "data": {
      "text/plain": [
       "dtype('int64')"
      ]
     },
     "execution_count": 8,
     "metadata": {},
     "output_type": "execute_result"
    }
   ],
   "source": [
    "np_array.dtype"
   ]
  },
  {
   "cell_type": "code",
   "execution_count": 9,
   "metadata": {
    "id": "OrejeCXHq88t"
   },
   "outputs": [
    {
     "data": {
      "text/plain": [
       "8"
      ]
     },
     "execution_count": 9,
     "metadata": {},
     "output_type": "execute_result"
    }
   ],
   "source": [
    "np_array.itemsize"
   ]
  },
  {
   "cell_type": "code",
   "execution_count": 10,
   "metadata": {
    "id": "SHylOjlc4CFy"
   },
   "outputs": [
    {
     "data": {
      "text/plain": [
       "array([ 0,  1,  2,  3,  4,  5,  6,  7,  8,  9, 10, 11, 12, 13, 14, 15, 16,\n",
       "       17, 18, 19, 20, 21, 22, 23, 24, 25, 26, 27, 28, 29, 30, 31, 32, 33,\n",
       "       34, 35])"
      ]
     },
     "execution_count": 10,
     "metadata": {},
     "output_type": "execute_result"
    }
   ],
   "source": [
    "np_array"
   ]
  },
  {
   "cell_type": "code",
   "execution_count": 11,
   "metadata": {
    "id": "BPMwdTyPrbGp"
   },
   "outputs": [
    {
     "data": {
      "text/plain": [
       "array([ 0.,  1.,  2.,  3.,  4.,  5.,  6.,  7.,  8.,  9., 10., 11., 12.,\n",
       "       13., 14., 15., 16., 17., 18., 19., 20., 21., 22., 23., 24., 25.,\n",
       "       26., 27., 28., 29., 30., 31., 32., 33., 34., 35.])"
      ]
     },
     "execution_count": 11,
     "metadata": {},
     "output_type": "execute_result"
    }
   ],
   "source": [
    "np_array.astype(np.float64)"
   ]
  },
  {
   "cell_type": "code",
   "execution_count": 15,
   "metadata": {
    "id": "9z8QQJTgrKpe"
   },
   "outputs": [
    {
     "data": {
      "text/plain": [
       "array([ True, False,  True,  True,  True, False,  True,  True, False])"
      ]
     },
     "execution_count": 15,
     "metadata": {},
     "output_type": "execute_result"
    }
   ],
   "source": [
    "np.array([12,0,3,4,5,0,6,7,0],dtype=np.bool_)"
   ]
  },
  {
   "cell_type": "markdown",
   "metadata": {
    "id": "U0LLY4XfM9EZ"
   },
   "source": [
    "Niz iz liste"
   ]
  },
  {
   "cell_type": "code",
   "execution_count": 16,
   "metadata": {
    "id": "pp1pMsTk30AT"
   },
   "outputs": [
    {
     "data": {
      "text/plain": [
       "array([1, 2, 3])"
      ]
     },
     "execution_count": 16,
     "metadata": {},
     "output_type": "execute_result"
    }
   ],
   "source": [
    "np.array([1, 2, 3])"
   ]
  },
  {
   "cell_type": "markdown",
   "metadata": {
    "id": "3Oq4-s_QNJxO"
   },
   "source": [
    "Niz nula"
   ]
  },
  {
   "cell_type": "code",
   "execution_count": 14,
   "metadata": {
    "id": "WP_vRs3W30AW"
   },
   "outputs": [
    {
     "data": {
      "text/plain": [
       "array([0., 0., 0.])"
      ]
     },
     "execution_count": 14,
     "metadata": {},
     "output_type": "execute_result"
    }
   ],
   "source": [
    "np.zeros(3)"
   ]
  },
  {
   "cell_type": "markdown",
   "metadata": {
    "id": "P2xs2zAXNQjv"
   },
   "source": [
    "Niz jedinica"
   ]
  },
  {
   "cell_type": "code",
   "execution_count": 17,
   "metadata": {
    "id": "EbbQvejn30AZ"
   },
   "outputs": [
    {
     "data": {
      "text/plain": [
       "array([1., 1., 1.])"
      ]
     },
     "execution_count": 17,
     "metadata": {},
     "output_type": "execute_result"
    }
   ],
   "source": [
    "np.ones(3)"
   ]
  },
  {
   "cell_type": "markdown",
   "metadata": {
    "id": "s19MZEp-NWPn"
   },
   "source": [
    "Niz od 3 nasumična int broja između 1 i 10\n",
    "\n",
    "\n",
    "```\n",
    "randint(start,end,number_of_values) - number_of_values u interavlu [start,end)\n",
    "```\n",
    "\n"
   ]
  },
  {
   "cell_type": "code",
   "execution_count": 18,
   "metadata": {
    "id": "Eu6mv39-30Ab"
   },
   "outputs": [
    {
     "data": {
      "text/plain": [
       "array([3, 8, 5])"
      ]
     },
     "execution_count": 18,
     "metadata": {},
     "output_type": "execute_result"
    }
   ],
   "source": [
    "np.random.randint(1,10, 3)"
   ]
  },
  {
   "cell_type": "markdown",
   "metadata": {
    "id": "MQKkksrLrspz"
   },
   "source": [
    "Niz iz 'range-a' integera"
   ]
  },
  {
   "cell_type": "code",
   "execution_count": 19,
   "metadata": {
    "id": "iLaXy-9SrH1m"
   },
   "outputs": [
    {
     "data": {
      "text/plain": [
       "array([ 1,  6, 11, 16, 21, 26, 31, 36, 41, 46, 51, 56, 61, 66, 71, 76, 81,\n",
       "       86, 91, 96])"
      ]
     },
     "execution_count": 19,
     "metadata": {},
     "output_type": "execute_result"
    }
   ],
   "source": [
    "np.arange(1, 100, 5)"
   ]
  },
  {
   "cell_type": "markdown",
   "metadata": {
    "id": "EEP0cFOcNrP2"
   },
   "source": [
    "Niz linearno udaljenih brojeva"
   ]
  },
  {
   "cell_type": "code",
   "execution_count": 20,
   "metadata": {
    "id": "ulOnYoU230Ad"
   },
   "outputs": [
    {
     "data": {
      "text/plain": [
       "array([ 0. ,  2.5,  5. ,  7.5, 10. ])"
      ]
     },
     "execution_count": 20,
     "metadata": {},
     "output_type": "execute_result"
    }
   ],
   "source": [
    "np.linspace(0, 10, 5 )"
   ]
  },
  {
   "cell_type": "markdown",
   "metadata": {
    "id": "ltpGqa5JYIw3"
   },
   "source": [
    "Jednostavan 2D niz"
   ]
  },
  {
   "cell_type": "code",
   "execution_count": 21,
   "metadata": {
    "id": "uvtGjFTR30Af"
   },
   "outputs": [
    {
     "data": {
      "text/plain": [
       "array([[1, 2, 3],\n",
       "       [4, 5, 6],\n",
       "       [7, 8, 9]])"
      ]
     },
     "execution_count": 21,
     "metadata": {},
     "output_type": "execute_result"
    }
   ],
   "source": [
    "np.array([[1,2,3],\n",
    "         [4,5,6],\n",
    "         [7,8,9]])"
   ]
  },
  {
   "cell_type": "markdown",
   "metadata": {
    "id": "qihCXFxcqw6C"
   },
   "source": [
    "Alternativni način za specificiranje višedimenzionalnih nizova"
   ]
  },
  {
   "cell_type": "code",
   "execution_count": 22,
   "metadata": {
    "id": "pOBdF_tTqviJ"
   },
   "outputs": [
    {
     "data": {
      "text/plain": [
       "matrix([[1, 2],\n",
       "        [3, 4]])"
      ]
     },
     "execution_count": 22,
     "metadata": {},
     "output_type": "execute_result"
    }
   ],
   "source": [
    "np.matrix('1 2; 3 4')"
   ]
  },
  {
   "cell_type": "markdown",
   "metadata": {
    "id": "LB3RLmFdX7vD"
   },
   "source": [
    "Niz sa vrijednostima između 0 i 1"
   ]
  },
  {
   "cell_type": "code",
   "execution_count": 23,
   "metadata": {
    "id": "HaTPFxfY30Ah"
   },
   "outputs": [
    {
     "data": {
      "text/plain": [
       "array([[0.82408033, 0.87046801, 0.72982589, 0.96475449],\n",
       "       [0.80040947, 0.8882829 , 0.02259642, 0.57440737],\n",
       "       [0.66581986, 0.65372067, 0.91311251, 0.05702988]])"
      ]
     },
     "execution_count": 23,
     "metadata": {},
     "output_type": "execute_result"
    }
   ],
   "source": [
    "np.random.random((3,4))"
   ]
  },
  {
   "cell_type": "markdown",
   "metadata": {
    "id": "bQ80v76SYCou"
   },
   "source": [
    "Niz sa normalno distribuiranim elementima"
   ]
  },
  {
   "cell_type": "code",
   "execution_count": 24,
   "metadata": {
    "id": "dKo8YPQhF3GO"
   },
   "outputs": [
    {
     "data": {
      "text/plain": [
       "array([[-0.47187791, -0.05469952, -2.26711347, -0.83363103],\n",
       "       [-0.03174315, -0.30929642, -1.16992442,  0.43429176],\n",
       "       [ 0.83669543, -1.17220883,  0.73151343, -0.60259981]])"
      ]
     },
     "execution_count": 24,
     "metadata": {},
     "output_type": "execute_result"
    }
   ],
   "source": [
    "np.random.randn(3,4)"
   ]
  },
  {
   "cell_type": "markdown",
   "metadata": {
    "id": "0Vdrl2yksN_x"
   },
   "source": [
    "Primjer nizova: 1D niz a te 2D niz b\n"
   ]
  },
  {
   "cell_type": "code",
   "execution_count": 25,
   "metadata": {
    "id": "92oz7rFe30Ak",
    "scrolled": true
   },
   "outputs": [
    {
     "name": "stdout",
     "output_type": "stream",
     "text": [
      "a =  [1 2 3 4]\n",
      "b =  [[3 3 6]\n",
      " [9 0 9]\n",
      " [3 6 1]]\n"
     ]
    }
   ],
   "source": [
    "a = np.array([1,2,3, 4])\n",
    "b = np.random.randint(0,10, (3,3))\n",
    "\n",
    "print(\"a = \",a)\n",
    "print(\"b = \",b)"
   ]
  },
  {
   "cell_type": "markdown",
   "metadata": {
    "id": "JklrMYYcsfBB"
   },
   "source": [
    "Oblik i dimenzija nizova"
   ]
  },
  {
   "cell_type": "code",
   "execution_count": 26,
   "metadata": {
    "id": "obBJnmLl30Ao"
   },
   "outputs": [
    {
     "name": "stdout",
     "output_type": "stream",
     "text": [
      "Shape of a: (4,)\n",
      "Shape of b: (3, 3)\n",
      "Dimension of a: 1\n",
      "Dimension of b: 2\n"
     ]
    }
   ],
   "source": [
    "print(\"Shape of a:\", np.shape(a))\n",
    "print(\"Shape of b:\", np.shape(b))\n",
    "\n",
    "print('Dimension of a:', np.ndim(a))\n",
    "print('Dimension of b:', np.ndim(b))"
   ]
  },
  {
   "cell_type": "markdown",
   "metadata": {
    "id": "k9dE7QVQsjQ3"
   },
   "source": [
    "Broj elemenata"
   ]
  },
  {
   "cell_type": "code",
   "execution_count": 27,
   "metadata": {
    "id": "M5a5sEo530Ap"
   },
   "outputs": [
    {
     "name": "stdout",
     "output_type": "stream",
     "text": [
      "Number of elements in a: 4\n",
      "Number of elements in b: 9\n"
     ]
    }
   ],
   "source": [
    "print('Number of elements in a:', np.size(a))\n",
    "print('Number of elements in b:', np.size(b))"
   ]
  },
  {
   "cell_type": "markdown",
   "metadata": {
    "id": "P9ktlJpS30As"
   },
   "source": [
    "### [2] Indeksiranje"
   ]
  },
  {
   "cell_type": "markdown",
   "metadata": {
    "id": "_tX1uDqgs7Yg"
   },
   "source": [
    "Prvi element od a"
   ]
  },
  {
   "cell_type": "code",
   "execution_count": 28,
   "metadata": {
    "id": "0KiQc0GL30A0"
   },
   "outputs": [
    {
     "name": "stdout",
     "output_type": "stream",
     "text": [
      "1\n",
      "1\n"
     ]
    }
   ],
   "source": [
    "print(a[0])\n",
    "print(a[-4])"
   ]
  },
  {
   "cell_type": "markdown",
   "metadata": {
    "id": "aArcxZxus8_W"
   },
   "source": [
    "Zadnji element od a"
   ]
  },
  {
   "cell_type": "code",
   "execution_count": 29,
   "metadata": {
    "id": "d-2JMaSG30A4"
   },
   "outputs": [
    {
     "name": "stdout",
     "output_type": "stream",
     "text": [
      "4\n",
      "4\n"
     ]
    }
   ],
   "source": [
    "print(a[-1])\n",
    "print(a[3])"
   ]
  },
  {
   "cell_type": "markdown",
   "metadata": {
    "id": "yqId4f3stAO8"
   },
   "source": [
    "Prvi redak od b"
   ]
  },
  {
   "cell_type": "code",
   "execution_count": 30,
   "metadata": {
    "id": "5yLi8hNw30A6"
   },
   "outputs": [
    {
     "name": "stdout",
     "output_type": "stream",
     "text": [
      "[3 3 6]\n",
      "[3 3 6]\n"
     ]
    }
   ],
   "source": [
    "print(b[0]) \n",
    "print(b[0,:])"
   ]
  },
  {
   "cell_type": "markdown",
   "metadata": {
    "id": "D47ZEqpGtET2"
   },
   "source": [
    "Drugi stupac od b"
   ]
  },
  {
   "cell_type": "code",
   "execution_count": 31,
   "metadata": {
    "id": "gJcTX8pC30A8"
   },
   "outputs": [
    {
     "data": {
      "text/plain": [
       "array([3, 0, 6])"
      ]
     },
     "execution_count": 31,
     "metadata": {},
     "output_type": "execute_result"
    }
   ],
   "source": [
    "b[:,1]"
   ]
  },
  {
   "cell_type": "markdown",
   "metadata": {
    "id": "qR-6Vo8ktI-Q"
   },
   "source": [
    "Dva nova niza"
   ]
  },
  {
   "cell_type": "code",
   "execution_count": 32,
   "metadata": {
    "id": "XtMiu1wj30A-"
   },
   "outputs": [
    {
     "name": "stdout",
     "output_type": "stream",
     "text": [
      "['a' 'b' 'c']\n",
      "[['d' 'e' 'f']\n",
      " ['g' 'h' 'k']]\n"
     ]
    }
   ],
   "source": [
    "x = np.array(['a', 'b', 'c'])\n",
    "y = np.array([['d','e','f'], \n",
    "              ['g', 'h', 'k']])\n",
    "\n",
    "print(x)\n",
    "print(y)"
   ]
  },
  {
   "cell_type": "markdown",
   "metadata": {
    "id": "gBCL_UPytRmp"
   },
   "source": [
    "Indeksiranje 'c' iz x"
   ]
  },
  {
   "cell_type": "code",
   "execution_count": 33,
   "metadata": {
    "id": "9yRkolt330BI"
   },
   "outputs": [
    {
     "data": {
      "text/plain": [
       "array(['c'], dtype='<U1')"
      ]
     },
     "execution_count": 33,
     "metadata": {},
     "output_type": "execute_result"
    }
   ],
   "source": [
    "ind = [2]\n",
    "x[ind]"
   ]
  },
  {
   "cell_type": "markdown",
   "metadata": {
    "id": "texW-VHk30BN"
   },
   "source": [
    "### [3] Slicing\n"
   ]
  },
  {
   "cell_type": "markdown",
   "metadata": {
    "id": "-3UY_gVVtmNU"
   },
   "source": [
    "Primjer integera između 1 i 10"
   ]
  },
  {
   "cell_type": "code",
   "execution_count": 34,
   "metadata": {
    "id": "YohttjXd30BO"
   },
   "outputs": [
    {
     "data": {
      "text/plain": [
       "array([ 1,  2,  3,  4,  5,  6,  7,  8,  9, 10])"
      ]
     },
     "execution_count": 34,
     "metadata": {},
     "output_type": "execute_result"
    }
   ],
   "source": [
    "X = np.arange(1, 11, dtype=int)\n",
    "X"
   ]
  },
  {
   "cell_type": "markdown",
   "metadata": {
    "id": "MxGdY-zFto5A"
   },
   "source": [
    "Prva dva elementa od X"
   ]
  },
  {
   "cell_type": "code",
   "execution_count": 35,
   "metadata": {
    "id": "AVU-sx-w30BP"
   },
   "outputs": [
    {
     "data": {
      "text/plain": [
       "array([1, 2])"
      ]
     },
     "execution_count": 35,
     "metadata": {},
     "output_type": "execute_result"
    }
   ],
   "source": [
    "X[:2]"
   ]
  },
  {
   "cell_type": "markdown",
   "metadata": {
    "id": "mow-9Ee3tsge"
   },
   "source": [
    "Elementi iz sredine = 3, 4, 5"
   ]
  },
  {
   "cell_type": "code",
   "execution_count": 36,
   "metadata": {
    "id": "XidRDF0E30BS"
   },
   "outputs": [
    {
     "data": {
      "text/plain": [
       "array([3, 4, 5])"
      ]
     },
     "execution_count": 36,
     "metadata": {},
     "output_type": "execute_result"
    }
   ],
   "source": [
    "X[2:5]"
   ]
  },
  {
   "cell_type": "markdown",
   "metadata": {
    "id": "xDzI4-yHtztv"
   },
   "source": [
    "Samo neparni redni brojevi"
   ]
  },
  {
   "cell_type": "code",
   "execution_count": 37,
   "metadata": {
    "id": "MQOMFZ-E30BU"
   },
   "outputs": [
    {
     "data": {
      "text/plain": [
       "array([1, 3, 5, 7, 9])"
      ]
     },
     "execution_count": 37,
     "metadata": {},
     "output_type": "execute_result"
    }
   ],
   "source": [
    "X[::2]"
   ]
  },
  {
   "cell_type": "markdown",
   "metadata": {
    "id": "HAOvTXDmt9Zi"
   },
   "source": [
    "Parni redni brojevi"
   ]
  },
  {
   "cell_type": "code",
   "execution_count": 38,
   "metadata": {
    "id": "BClbH8_N30BV"
   },
   "outputs": [
    {
     "data": {
      "text/plain": [
       "array([ 2,  4,  6,  8, 10])"
      ]
     },
     "execution_count": 38,
     "metadata": {},
     "output_type": "execute_result"
    }
   ],
   "source": [
    "X[1::2]"
   ]
  },
  {
   "cell_type": "markdown",
   "metadata": {
    "id": "dzaD9fQzuBNK"
   },
   "source": [
    "Primjer 2D niza"
   ]
  },
  {
   "cell_type": "code",
   "execution_count": 39,
   "metadata": {
    "id": "mbHDuPI030BX"
   },
   "outputs": [
    {
     "data": {
      "text/plain": [
       "array([[1, 2, 3],\n",
       "       [4, 5, 6],\n",
       "       [7, 8, 9]])"
      ]
     },
     "execution_count": 39,
     "metadata": {},
     "output_type": "execute_result"
    }
   ],
   "source": [
    "Y= np.arange(1,10).reshape(3,3)\n",
    "Y"
   ]
  },
  {
   "cell_type": "markdown",
   "metadata": {
    "id": "CcbH979wuEVF"
   },
   "source": [
    "Prvi i drugi red\n"
   ]
  },
  {
   "cell_type": "code",
   "execution_count": 40,
   "metadata": {
    "id": "30LG8L4530BY"
   },
   "outputs": [
    {
     "data": {
      "text/plain": [
       "array([[1, 2, 3],\n",
       "       [4, 5, 6]])"
      ]
     },
     "execution_count": 40,
     "metadata": {},
     "output_type": "execute_result"
    }
   ],
   "source": [
    "Y[:2,:]"
   ]
  },
  {
   "cell_type": "markdown",
   "metadata": {
    "id": "dvzDXeptuI0b"
   },
   "source": [
    "Drugi i treći stupac"
   ]
  },
  {
   "cell_type": "code",
   "execution_count": 41,
   "metadata": {
    "id": "5-spSpsr30Ba"
   },
   "outputs": [
    {
     "data": {
      "text/plain": [
       "array([[2, 3],\n",
       "       [5, 6],\n",
       "       [8, 9]])"
      ]
     },
     "execution_count": 41,
     "metadata": {},
     "output_type": "execute_result"
    }
   ],
   "source": [
    "Y[:, 1:]"
   ]
  },
  {
   "cell_type": "markdown",
   "metadata": {
    "id": "jbg72kXWuWGd"
   },
   "source": [
    "Parcijalni redak : 5, 6\n"
   ]
  },
  {
   "cell_type": "code",
   "execution_count": 42,
   "metadata": {
    "id": "A-Bo9Lam30Bb"
   },
   "outputs": [
    {
     "data": {
      "text/plain": [
       "array([5, 6])"
      ]
     },
     "execution_count": 42,
     "metadata": {},
     "output_type": "execute_result"
    }
   ],
   "source": [
    "Y[1,1:]"
   ]
  },
  {
   "cell_type": "markdown",
   "metadata": {
    "id": "i8VuqiFj30Bd"
   },
   "source": [
    "### [4] Univerzalne funkcije (ufuncs)\n",
    "**Brze operacije na nizovima**"
   ]
  },
  {
   "cell_type": "code",
   "execution_count": 43,
   "metadata": {
    "id": "n5Zpl20m30Be"
   },
   "outputs": [
    {
     "data": {
      "text/plain": [
       "array([ 1,  2,  3,  4,  5,  6,  7,  8,  9, 10])"
      ]
     },
     "execution_count": 43,
     "metadata": {},
     "output_type": "execute_result"
    }
   ],
   "source": [
    "X"
   ]
  },
  {
   "cell_type": "markdown",
   "metadata": {
    "id": "YZ_OGaequnk7"
   },
   "source": [
    "Maximum element"
   ]
  },
  {
   "cell_type": "code",
   "execution_count": 44,
   "metadata": {
    "id": "c7qvoqAM30Bi"
   },
   "outputs": [
    {
     "data": {
      "text/plain": [
       "10"
      ]
     },
     "execution_count": 44,
     "metadata": {},
     "output_type": "execute_result"
    }
   ],
   "source": [
    "np.max(X)"
   ]
  },
  {
   "cell_type": "markdown",
   "metadata": {
    "id": "Esmm1tAwupnG"
   },
   "source": [
    "Mean svih elemenata"
   ]
  },
  {
   "cell_type": "code",
   "execution_count": 45,
   "metadata": {
    "id": "GxkPQwBh30Bk"
   },
   "outputs": [
    {
     "data": {
      "text/plain": [
       "5.5"
      ]
     },
     "execution_count": 45,
     "metadata": {},
     "output_type": "execute_result"
    }
   ],
   "source": [
    "np.mean(X)"
   ]
  },
  {
   "cell_type": "markdown",
   "metadata": {
    "id": "EFDNjCdUuuEd"
   },
   "source": [
    "Svi elementi na potenciju broja 4\n"
   ]
  },
  {
   "cell_type": "code",
   "execution_count": 46,
   "metadata": {
    "id": "1_vAnx-t30Bl"
   },
   "outputs": [
    {
     "data": {
      "text/plain": [
       "array([    1,    16,    81,   256,   625,  1296,  2401,  4096,  6561,\n",
       "       10000])"
      ]
     },
     "execution_count": 46,
     "metadata": {},
     "output_type": "execute_result"
    }
   ],
   "source": [
    "np.power(X, 4)"
   ]
  },
  {
   "cell_type": "markdown",
   "metadata": {
    "id": "78xX7sYwuyQA"
   },
   "source": [
    "Trigonometrijske funkcije"
   ]
  },
  {
   "cell_type": "code",
   "execution_count": 47,
   "metadata": {
    "id": "3hI7QfFi30Bn"
   },
   "outputs": [
    {
     "name": "stdout",
     "output_type": "stream",
     "text": [
      "[ 0.84147098  0.90929743  0.14112001 -0.7568025  -0.95892427 -0.2794155\n",
      "  0.6569866   0.98935825  0.41211849 -0.54402111]\n",
      "[ 1.55740772 -2.18503986 -0.14254654  1.15782128 -3.38051501 -0.29100619\n",
      "  0.87144798 -6.79971146 -0.45231566  0.64836083]\n"
     ]
    }
   ],
   "source": [
    "print(np.sin(X))\n",
    "print(np.tan(X))"
   ]
  },
  {
   "cell_type": "markdown",
   "metadata": {
    "id": "nUD0Qrr9u16C"
   },
   "source": [
    "Računanje $(sin \\; x_{ij})^2 + (cos \\; x_{ij})^2$ za svaki element"
   ]
  },
  {
   "cell_type": "code",
   "execution_count": 48,
   "metadata": {
    "id": "xax0W2nm30Bq"
   },
   "outputs": [
    {
     "data": {
      "text/plain": [
       "array([1., 1., 1., 1., 1., 1., 1., 1., 1., 1.])"
      ]
     },
     "execution_count": 48,
     "metadata": {},
     "output_type": "execute_result"
    }
   ],
   "source": [
    "# x2 + y2 = 1\n",
    "np.square(np.sin(X)) + np.square(np.cos(X))"
   ]
  },
  {
   "cell_type": "markdown",
   "metadata": {
    "id": "g-HHXNfHvG2U"
   },
   "source": [
    "2D niz"
   ]
  },
  {
   "cell_type": "code",
   "execution_count": 49,
   "metadata": {
    "id": "vXPH4FQm30Bs"
   },
   "outputs": [
    {
     "data": {
      "text/plain": [
       "array([[1, 2, 3],\n",
       "       [4, 5, 6],\n",
       "       [7, 8, 9]])"
      ]
     },
     "execution_count": 49,
     "metadata": {},
     "output_type": "execute_result"
    }
   ],
   "source": [
    "Y"
   ]
  },
  {
   "cell_type": "markdown",
   "metadata": {
    "id": "NMJAcurrvJjw"
   },
   "source": [
    "Množenje svakog elementa"
   ]
  },
  {
   "cell_type": "code",
   "execution_count": 50,
   "metadata": {
    "id": "MHn_A5aA30Bv"
   },
   "outputs": [
    {
     "data": {
      "text/plain": [
       "array([[ 2,  4,  6],\n",
       "       [ 8, 10, 12],\n",
       "       [14, 16, 18]])"
      ]
     },
     "execution_count": 50,
     "metadata": {},
     "output_type": "execute_result"
    }
   ],
   "source": [
    "np.multiply(Y, 2)"
   ]
  },
  {
   "cell_type": "markdown",
   "metadata": {
    "id": "5tiEaGDzvOFX"
   },
   "source": [
    "Split Y u 3 podniza"
   ]
  },
  {
   "cell_type": "code",
   "execution_count": 51,
   "metadata": {
    "id": "dvlh8zz530Bx"
   },
   "outputs": [
    {
     "data": {
      "text/plain": [
       "[array([[1, 2, 3]]), array([[4, 5, 6]]), array([[7, 8, 9]])]"
      ]
     },
     "execution_count": 51,
     "metadata": {},
     "output_type": "execute_result"
    }
   ],
   "source": [
    "np.split(Y, 3)"
   ]
  },
  {
   "cell_type": "markdown",
   "metadata": {
    "id": "h8NcgJ8v30Bz"
   },
   "source": [
    "### [5] Broadcasting"
   ]
  },
  {
   "cell_type": "markdown",
   "metadata": {
    "id": "e9K7DgOP30Bz"
   },
   "source": [
    " Broadcasting oredstavlja mogućnost korištenja ufuncs i mnogih drugih operacija na nizove različitih nizova"
   ]
  },
  {
   "cell_type": "code",
   "execution_count": 52,
   "metadata": {
    "id": "F1TvYZLT30Bz"
   },
   "outputs": [
    {
     "data": {
      "text/plain": [
       "array([ 1,  2,  3,  4,  5,  6,  7,  8,  9, 10])"
      ]
     },
     "execution_count": 52,
     "metadata": {},
     "output_type": "execute_result"
    }
   ],
   "source": [
    "X"
   ]
  },
  {
   "cell_type": "markdown",
   "metadata": {
    "id": "CBmSFhEMvYBM"
   },
   "source": [
    "Dodavanje 5 na svaki element"
   ]
  },
  {
   "cell_type": "code",
   "execution_count": 53,
   "metadata": {
    "id": "OybWQPju30B1"
   },
   "outputs": [
    {
     "data": {
      "text/plain": [
       "array([ 6,  7,  8,  9, 10, 11, 12, 13, 14, 15])"
      ]
     },
     "execution_count": 53,
     "metadata": {},
     "output_type": "execute_result"
    }
   ],
   "source": [
    "X + 5"
   ]
  },
  {
   "cell_type": "code",
   "execution_count": 54,
   "metadata": {
    "id": "lCqg_Wm330B3"
   },
   "outputs": [
    {
     "data": {
      "text/plain": [
       "array([ 6,  7,  8,  9, 10, 11, 12, 13, 14, 15])"
      ]
     },
     "execution_count": 54,
     "metadata": {},
     "output_type": "execute_result"
    }
   ],
   "source": [
    "np.add(X, 5)"
   ]
  },
  {
   "cell_type": "markdown",
   "metadata": {
    "id": "GKeed4JKvc1y"
   },
   "source": [
    "Niz Z sa newaxis"
   ]
  },
  {
   "cell_type": "code",
   "execution_count": 55,
   "metadata": {
    "id": "pHCIA7ye30B6"
   },
   "outputs": [
    {
     "data": {
      "text/plain": [
       "array([[0],\n",
       "       [1],\n",
       "       [2]])"
      ]
     },
     "execution_count": 55,
     "metadata": {},
     "output_type": "execute_result"
    }
   ],
   "source": [
    "Z = np.arange(3)[:, np.newaxis]\n",
    "Z"
   ]
  },
  {
   "cell_type": "code",
   "execution_count": 56,
   "metadata": {
    "id": "-AbjREHUvkLD"
   },
   "outputs": [
    {
     "data": {
      "text/plain": [
       "(3, 1)"
      ]
     },
     "execution_count": 56,
     "metadata": {},
     "output_type": "execute_result"
    }
   ],
   "source": [
    "Z.shape"
   ]
  },
  {
   "cell_type": "code",
   "execution_count": 57,
   "metadata": {
    "id": "MSaoZMjIvug7"
   },
   "outputs": [
    {
     "data": {
      "text/plain": [
       "(3, 3)"
      ]
     },
     "execution_count": 57,
     "metadata": {},
     "output_type": "execute_result"
    }
   ],
   "source": [
    "Y.shape"
   ]
  },
  {
   "cell_type": "code",
   "execution_count": 58,
   "metadata": {
    "id": "lHRMcBgc30B8"
   },
   "outputs": [
    {
     "data": {
      "text/plain": [
       "array([[ 0,  0,  0],\n",
       "       [ 4,  5,  6],\n",
       "       [14, 16, 18]])"
      ]
     },
     "execution_count": 58,
     "metadata": {},
     "output_type": "execute_result"
    }
   ],
   "source": [
    "np.multiply(Y, Z)"
   ]
  },
  {
   "cell_type": "code",
   "execution_count": 59,
   "metadata": {
    "id": "FxuA0fenF3Rc"
   },
   "outputs": [
    {
     "data": {
      "text/plain": [
       "array([[ 8],\n",
       "       [17],\n",
       "       [26]])"
      ]
     },
     "execution_count": 59,
     "metadata": {},
     "output_type": "execute_result"
    }
   ],
   "source": [
    "np.matmul(Y, Z)"
   ]
  },
  {
   "cell_type": "markdown",
   "metadata": {
    "id": "cdp7oTYT30B-"
   },
   "source": [
    "### [6] Druge operacije"
   ]
  },
  {
   "cell_type": "code",
   "execution_count": 60,
   "metadata": {
    "id": "n6__1gGJ30B_"
   },
   "outputs": [
    {
     "data": {
      "text/plain": [
       "array([3, 1, 3, 2, 1, 4, 4, 1, 3, 1])"
      ]
     },
     "execution_count": 60,
     "metadata": {},
     "output_type": "execute_result"
    }
   ],
   "source": [
    "x = np.random.randint(1,5, 10)\n",
    "x"
   ]
  },
  {
   "cell_type": "code",
   "execution_count": 61,
   "metadata": {
    "id": "2AhVk4Ru30CB"
   },
   "outputs": [
    {
     "data": {
      "text/plain": [
       "array([[4, 2, 3],\n",
       "       [1, 4, 4],\n",
       "       [4, 2, 1]])"
      ]
     },
     "execution_count": 61,
     "metadata": {},
     "output_type": "execute_result"
    }
   ],
   "source": [
    "y = np.random.randint(1,5, (3,3))\n",
    "y"
   ]
  },
  {
   "cell_type": "markdown",
   "metadata": {
    "id": "VvtDh1yLwKzg"
   },
   "source": [
    "Sortiranje"
   ]
  },
  {
   "cell_type": "code",
   "execution_count": 62,
   "metadata": {
    "id": "mom7_ymM30CD"
   },
   "outputs": [
    {
     "data": {
      "text/plain": [
       "array([1, 1, 1, 1, 2, 3, 3, 3, 4, 4])"
      ]
     },
     "execution_count": 62,
     "metadata": {},
     "output_type": "execute_result"
    }
   ],
   "source": [
    "np.sort(x)"
   ]
  },
  {
   "cell_type": "markdown",
   "metadata": {
    "id": "eGrKxoUFwMnP"
   },
   "source": [
    "Sortiranje po redcima"
   ]
  },
  {
   "cell_type": "code",
   "execution_count": 63,
   "metadata": {
    "id": "PTtb3TYN30CF"
   },
   "outputs": [
    {
     "data": {
      "text/plain": [
       "array([[1, 2, 1],\n",
       "       [4, 2, 3],\n",
       "       [4, 4, 4]])"
      ]
     },
     "execution_count": 63,
     "metadata": {},
     "output_type": "execute_result"
    }
   ],
   "source": [
    "np.sort(y, axis=0)"
   ]
  },
  {
   "cell_type": "markdown",
   "metadata": {
    "id": "PvNTU6tOwVNR"
   },
   "source": [
    "Sortiranje po stupcima"
   ]
  },
  {
   "cell_type": "code",
   "execution_count": 64,
   "metadata": {
    "id": "c0xS9Sge30CH"
   },
   "outputs": [
    {
     "data": {
      "text/plain": [
       "array([[2, 3, 4],\n",
       "       [1, 4, 4],\n",
       "       [1, 2, 4]])"
      ]
     },
     "execution_count": 64,
     "metadata": {},
     "output_type": "execute_result"
    }
   ],
   "source": [
    "np.sort(y, axis=1)"
   ]
  },
  {
   "cell_type": "markdown",
   "metadata": {
    "id": "tLjHjmxIwYsD"
   },
   "source": [
    "Conditions primijenjen na nizove"
   ]
  },
  {
   "cell_type": "code",
   "execution_count": 65,
   "metadata": {
    "id": "NCi1o1ey30CJ"
   },
   "outputs": [
    {
     "data": {
      "text/plain": [
       "array([False, False, False, False, False,  True,  True, False, False,\n",
       "       False])"
      ]
     },
     "execution_count": 65,
     "metadata": {},
     "output_type": "execute_result"
    }
   ],
   "source": [
    "# == , !=, < , >, >=, <= operations on arrays\n",
    "x > 3"
   ]
  },
  {
   "cell_type": "markdown",
   "metadata": {
    "id": "WyvfBEFHwe_b"
   },
   "source": [
    "Maskiranje niza"
   ]
  },
  {
   "cell_type": "code",
   "execution_count": 66,
   "metadata": {
    "id": "hEiZgr5-30CK"
   },
   "outputs": [
    {
     "data": {
      "text/plain": [
       "array([4, 4])"
      ]
     },
     "execution_count": 66,
     "metadata": {},
     "output_type": "execute_result"
    }
   ],
   "source": [
    "x[x>3]"
   ]
  },
  {
   "cell_type": "code",
   "execution_count": 67,
   "metadata": {
    "id": "Rw-zn_Z230CM"
   },
   "outputs": [
    {
     "data": {
      "text/plain": [
       "array([3, 3, 2, 3])"
      ]
     },
     "execution_count": 67,
     "metadata": {},
     "output_type": "execute_result"
    }
   ],
   "source": [
    "x[(x <= 3) & (x>1)]"
   ]
  },
  {
   "cell_type": "markdown",
   "metadata": {
    "id": "E9LHp9UECBLD"
   },
   "source": [
    "## MATPLOTLIB"
   ]
  },
  {
   "cell_type": "markdown",
   "metadata": {
    "id": "rkaj4RksCIT8"
   },
   "source": [
    "### Instalacija"
   ]
  },
  {
   "cell_type": "code",
   "execution_count": 68,
   "metadata": {
    "id": "qAuH1YS3CB1v"
   },
   "outputs": [
    {
     "name": "stdout",
     "output_type": "stream",
     "text": [
      "Defaulting to user installation because normal site-packages is not writeable\n",
      "Collecting matplotlib\n",
      "  Downloading matplotlib-3.3.4-cp36-cp36m-manylinux1_x86_64.whl (11.5 MB)\n",
      "     |████████████████████████████████| 11.5 MB 2.6 MB/s                                | 2.9 MB 2.6 MB/s eta 0:00:04\n",
      "\u001b[?25hRequirement already satisfied: pyparsing!=2.0.4,!=2.1.2,!=2.1.6,>=2.0.3 in /usr/local/lib/python3.6/site-packages (from matplotlib) (3.0.9)\n",
      "Requirement already satisfied: python-dateutil>=2.1 in /usr/lib/python3.6/site-packages (from matplotlib) (2.6.1)\n",
      "Collecting kiwisolver>=1.0.1\n",
      "  Downloading kiwisolver-1.3.1-cp36-cp36m-manylinux1_x86_64.whl (1.1 MB)\n",
      "     |████████████████████████████████| 1.1 MB 53.1 MB/s            \n",
      "\u001b[?25hCollecting cycler>=0.10\n",
      "  Downloading cycler-0.11.0-py3-none-any.whl (6.4 kB)\n",
      "Requirement already satisfied: numpy>=1.15 in ./.local/lib/python3.6/site-packages (from matplotlib) (1.19.5)\n",
      "Collecting pillow>=6.2.0\n",
      "  Downloading Pillow-8.4.0-cp36-cp36m-manylinux_2_17_x86_64.manylinux2014_x86_64.whl (3.1 MB)\n",
      "     |████████████████████████████████| 3.1 MB 59.2 MB/s            \n",
      "\u001b[?25hRequirement already satisfied: six>=1.5 in /usr/lib/python3.6/site-packages (from python-dateutil>=2.1->matplotlib) (1.11.0)\n",
      "Installing collected packages: pillow, kiwisolver, cycler, matplotlib\n",
      "Successfully installed cycler-0.11.0 kiwisolver-1.3.1 matplotlib-3.3.4 pillow-8.4.0\n"
     ]
    }
   ],
   "source": [
    "!pip install matplotlib"
   ]
  },
  {
   "cell_type": "markdown",
   "metadata": {
    "id": "edMrTIiNCdOx"
   },
   "source": [
    "### Import"
   ]
  },
  {
   "cell_type": "code",
   "execution_count": 70,
   "metadata": {
    "id": "xbx2UfKYCdcP"
   },
   "outputs": [],
   "source": [
    "import matplotlib.pyplot as plt"
   ]
  },
  {
   "cell_type": "markdown",
   "metadata": {
    "id": "WALI8x49GUpe"
   },
   "source": [
    "### [1] Line Plots"
   ]
  },
  {
   "cell_type": "code",
   "execution_count": 71,
   "metadata": {
    "id": "k6dVf2brBHdX"
   },
   "outputs": [
    {
     "data": {
      "image/png": "[encoded data removed]",
      "text/plain": [
       "<Figure size 432x288 with 1 Axes>"
      ]
     },
     "metadata": {
      "needs_background": "light"
     },
     "output_type": "display_data"
    }
   ],
   "source": [
    "x = np.linspace(0,10)\n",
    "plt.plot(x)\n",
    "plt.show()"
   ]
  },
  {
   "cell_type": "code",
   "execution_count": 72,
   "metadata": {
    "id": "YPqysZYJAs2C"
   },
   "outputs": [
    {
     "data": {
      "image/png": "[encoded data removed]",
      "text/plain": [
       "<Figure size 432x288 with 1 Axes>"
      ]
     },
     "metadata": {
      "needs_background": "light"
     },
     "output_type": "display_data"
    }
   ],
   "source": [
    "x = np.linspace(0,10)\n",
    "y = np.exp(x)\n",
    "plt.plot(x,y)\n",
    "plt.show()"
   ]
  },
  {
   "cell_type": "code",
   "execution_count": 73,
   "metadata": {
    "id": "08RTGn_xE3MP"
   },
   "outputs": [
    {
     "data": {
      "image/png": "[encoded data removed]",
      "text/plain": [
       "<Figure size 432x288 with 1 Axes>"
      ]
     },
     "metadata": {
      "needs_background": "light"
     },
     "output_type": "display_data"
    }
   ],
   "source": [
    "x  = [1, 2, 3, 4, 5, 6, 7, 8, 9]\n",
    "y1 = [1, 3, 5, 3, 1, 3, 5, 3, 1]\n",
    "y2 = [2, 4, 6, 4, 2, 4, 6, 4, 2]\n",
    "plt.plot(x, y1, label=\"line L\")\n",
    "plt.plot(x, y2, label=\"line H\")\n",
    "plt.plot()\n",
    "\n",
    "plt.xlabel(\"x axis\")\n",
    "plt.ylabel(\"y axis\")\n",
    "plt.title(\"Line Graph Example\")\n",
    "plt.legend()\n",
    "plt.show()"
   ]
  },
  {
   "cell_type": "markdown",
   "metadata": {
    "id": "sIZLTZ0pdo0Z"
   },
   "source": [
    "### [2] Bar Plots"
   ]
  },
  {
   "cell_type": "code",
   "execution_count": 74,
   "metadata": {
    "id": "bZv4MenQpYOF"
   },
   "outputs": [
    {
     "data": {
      "image/png": "[encoded data removed]",
      "text/plain": [
       "<Figure size 432x288 with 1 Axes>"
      ]
     },
     "metadata": {
      "needs_background": "light"
     },
     "output_type": "display_data"
    }
   ],
   "source": [
    "# Look at index 4 and 6, which demonstrate overlapping cases.\n",
    "x1 = [1, 3, 4, 5, 6, 7, 9]\n",
    "y1 = [4, 7, 2, 4, 7, 8, 3]\n",
    "\n",
    "x2 = [2, 4, 6, 8, 10]\n",
    "y2 = [5, 6, 2, 6, 2]\n",
    "\n",
    "# Colors: https://matplotlib.org/api/colors_api.html\n",
    "\n",
    "plt.bar(x1, y1, label=\"Blue Bar\", color='b')\n",
    "plt.bar(x2, y2, label=\"Green Bar\", color='g')\n",
    "plt.plot()\n",
    "\n",
    "plt.xlabel(\"bar number\")\n",
    "plt.ylabel(\"bar height\")\n",
    "plt.title(\"Bar Chart Example\")\n",
    "plt.legend()\n",
    "plt.show()"
   ]
  },
  {
   "cell_type": "markdown",
   "metadata": {
    "id": "YQO2Lw8Xdu7x"
   },
   "source": [
    "### [3] Histograms"
   ]
  },
  {
   "cell_type": "code",
   "execution_count": 75,
   "metadata": {
    "cellView": "both",
    "id": "SZ-DMbnPMbMY"
   },
   "outputs": [
    {
     "data": {
      "image/png": "[encoded data removed]",
      "text/plain": [
       "<Figure size 432x288 with 1 Axes>"
      ]
     },
     "metadata": {
      "needs_background": "light"
     },
     "output_type": "display_data"
    },
    {
     "data": {
      "image/png": "[encoded data removed]",
      "text/plain": [
       "<Figure size 432x288 with 1 Axes>"
      ]
     },
     "metadata": {
      "needs_background": "light"
     },
     "output_type": "display_data"
    },
    {
     "data": {
      "image/png": "[encoded data removed]",
      "text/plain": [
       "<Figure size 432x288 with 1 Axes>"
      ]
     },
     "metadata": {
      "needs_background": "light"
     },
     "output_type": "display_data"
    }
   ],
   "source": [
    "# Use numpy to generate a bunch of random data in a bell curve around 5.\n",
    "n = 5 + np.random.randn(1000)\n",
    "\n",
    "m = [m for m in range(len(n))]\n",
    "plt.bar(m, n)\n",
    "plt.title(\"Raw Data\")\n",
    "plt.show()\n",
    "\n",
    "plt.hist(n, bins=20)\n",
    "plt.title(\"Histogram\")\n",
    "plt.show()\n",
    "\n",
    "plt.hist(n, cumulative=True, bins=20)\n",
    "plt.title(\"Cumulative Histogram\")\n",
    "plt.show()"
   ]
  },
  {
   "cell_type": "markdown",
   "metadata": {
    "id": "9-CelVUmdz8r"
   },
   "source": [
    "### [4] Scatter Plots"
   ]
  },
  {
   "cell_type": "code",
   "execution_count": 76,
   "metadata": {
    "id": "79C7jc9mv-Ji"
   },
   "outputs": [
    {
     "data": {
      "image/png": "[encoded data removed]",
      "text/plain": [
       "<Figure size 432x288 with 1 Axes>"
      ]
     },
     "metadata": {
      "needs_background": "light"
     },
     "output_type": "display_data"
    }
   ],
   "source": [
    "x1 = [2, 3, 4]\n",
    "y1 = [5, 5, 5]\n",
    "\n",
    "x2 = [1, 2, 3, 4, 5]\n",
    "y2 = [2, 3, 2, 3, 4]\n",
    "y3 = [6, 8, 7, 8, 7]\n",
    "\n",
    "# Markers: https://matplotlib.org/api/markers_api.html\n",
    "\n",
    "plt.scatter(x1, y1)\n",
    "plt.scatter(x2, y2, marker='v', color='r')\n",
    "plt.scatter(x2, y3, marker='^', color='m')\n",
    "plt.title('Scatter Plot Example')\n",
    "plt.show()"
   ]
  },
  {
   "cell_type": "markdown",
   "metadata": {
    "id": "nlk-Sk0Nd82p"
   },
   "source": [
    "### [5] Stack Plots"
   ]
  },
  {
   "cell_type": "code",
   "execution_count": 77,
   "metadata": {
    "id": "5sxEM0pJzpgr"
   },
   "outputs": [
    {
     "data": {
      "image/png": "[encoded data removed]",
      "text/plain": [
       "<Figure size 432x288 with 1 Axes>"
      ]
     },
     "metadata": {
      "needs_background": "light"
     },
     "output_type": "display_data"
    }
   ],
   "source": [
    "idxes = [ 1,  2,  3,  4,  5,  6,  7,  8,  9]\n",
    "arr1  = [23, 40, 28, 43,  8, 44, 43, 18, 17]\n",
    "arr2  = [17, 30, 22, 14, 17, 17, 29, 22, 30]\n",
    "arr3  = [15, 31, 18, 22, 18, 19, 13, 32, 39]\n",
    "\n",
    "# Adding legend for stack plots is tricky.\n",
    "plt.plot([], [], color='r', label = 'D 1')\n",
    "plt.plot([], [], color='g', label = 'D 2')\n",
    "plt.plot([], [], color='b', label = 'D 3')\n",
    "\n",
    "plt.stackplot(idxes, arr1, arr2, arr3, colors= ['r', 'g', 'b'])\n",
    "plt.title('Stack Plot Example')\n",
    "plt.legend()\n",
    "plt.show()"
   ]
  },
  {
   "cell_type": "markdown",
   "metadata": {
    "id": "C0LOohpqeCjx"
   },
   "source": [
    "### [6] Pie Chart aka Pita bar"
   ]
  },
  {
   "cell_type": "code",
   "execution_count": 78,
   "metadata": {
    "id": "ZdEG-d4g4U6v"
   },
   "outputs": [
    {
     "data": {
      "image/png": "[encoded data removed]",
      "text/plain": [
       "<Figure size 432x288 with 1 Axes>"
      ]
     },
     "metadata": {},
     "output_type": "display_data"
    }
   ],
   "source": [
    "import matplotlib.pyplot as plt\n",
    "\n",
    "labels = 'Ne', 'Ne - samo u žutoj boji'\n",
    "sections = [80, 20]\n",
    "colors = ['c', 'y']\n",
    "\n",
    "plt.pie(sections, labels=labels, colors=colors,\n",
    "        startangle=90,\n",
    "        explode = (0, 0.1),\n",
    "        autopct = '%1.2f%%')\n",
    "\n",
    "plt.axis('equal') # Try commenting this out.\n",
    "plt.title('Je li se ovo predavanje zaista dogodilo?')\n",
    "plt.show()"
   ]
  },
  {
   "cell_type": "markdown",
   "metadata": {
    "id": "sX97x87MTyIf"
   },
   "source": [
    "### [7] Fill i alpha"
   ]
  },
  {
   "cell_type": "code",
   "execution_count": 79,
   "metadata": {
    "id": "BCUl8mTMT4sN"
   },
   "outputs": [
    {
     "data": {
      "image/png": "[encoded data removed]",
      "text/plain": [
       "<Figure size 432x288 with 1 Axes>"
      ]
     },
     "metadata": {
      "needs_background": "light"
     },
     "output_type": "display_data"
    }
   ],
   "source": [
    "import matplotlib.pyplot as plt\n",
    "import numpy as np\n",
    "\n",
    "ys = 200 + np.random.randn(100)\n",
    "x = [x for x in range(len(ys))]\n",
    "\n",
    "plt.plot(x, ys, '-')\n",
    "plt.fill_between(x, ys, 195, where=(ys > 195), facecolor='g', alpha=0.6)\n",
    "\n",
    "plt.title(\"Fills and Alpha Example\")\n",
    "plt.show()"
   ]
  },
  {
   "cell_type": "markdown",
   "metadata": {
    "id": "jONspxyzeT4Y"
   },
   "source": [
    "### [8] Subplotting "
   ]
  },
  {
   "cell_type": "markdown",
   "metadata": {
    "id": "ycBkQxArofbA"
   },
   "source": [
    "Using subplots"
   ]
  },
  {
   "cell_type": "code",
   "execution_count": 119,
   "metadata": {
    "id": "y30-vx8roAf4"
   },
   "outputs": [
    {
     "data": {
      "image/png": "[encoded data removed]",
      "text/plain": [
       "<Figure size 432x288 with 4 Axes>"
      ]
     },
     "metadata": {
      "needs_background": "light"
     },
     "output_type": "display_data"
    }
   ],
   "source": [
    "fig, ax = plt.subplots(2, 2)\n",
    "\n",
    "ax[0, 0].plot(np.random.random(10), color = 'r') #row=0, col=0\n",
    "ax[1, 0].plot(np.random.random(10), color = 'b') #row=1, col=0\n",
    "ax[0, 1].plot(np.random.random(10), color = 'g') #row=0, col=1\n",
    "ax[1, 1].plot(np.random.random(10), color = 'k') #row=1, col=1\n",
    "plt.show()"
   ]
  },
  {
   "cell_type": "markdown",
   "metadata": {
    "id": "p1V_slM8ohza"
   },
   "source": [
    "Korištenje figure-a"
   ]
  },
  {
   "cell_type": "code",
   "execution_count": 81,
   "metadata": {
    "id": "dDAxtFqlnL2N"
   },
   "outputs": [
    {
     "data": {
      "image/png": "[encoded data removed]",
      "text/plain": [
       "<Figure size 432x288 with 2 Axes>"
      ]
     },
     "metadata": {
      "needs_background": "light"
     },
     "output_type": "display_data"
    }
   ],
   "source": [
    "fig = plt.figure()\n",
    "ax1 = fig.add_axes([0.1, 0.5, 0.8, 0.4], ylim=(-1.2, 1.2))\n",
    "ax2 = fig.add_axes([0.1, 0.1, 0.8, 0.4], ylim=(-1.2, 1.2))\n",
    "\n",
    "x = np.linspace(0, 10)\n",
    "ax1.plot(np.sin(x))\n",
    "ax2.plot(np.cos(x))\n",
    "\n",
    "plt.show()"
   ]
  },
  {
   "cell_type": "code",
   "execution_count": 82,
   "metadata": {
    "id": "rDWEcisFnMlN"
   },
   "outputs": [
    {
     "data": {
      "image/png": "[encoded data removed]",
      "text/plain": [
       "<Figure size 432x288 with 6 Axes>"
      ]
     },
     "metadata": {
      "needs_background": "light"
     },
     "output_type": "display_data"
    }
   ],
   "source": [
    "fig = plt.figure()\n",
    "#fig.subplots_adjust(hspace=0.4, wspace=0.4)\n",
    "\n",
    "for i in range(1, 7):\n",
    "    plt.subplot(2, 3, i)\n",
    "    plt.text(0.5, 0.5, str((2, 3, i)),fontsize=18, ha='center')"
   ]
  },
  {
   "cell_type": "markdown",
   "metadata": {
    "id": "ejOPyV6pom9s"
   },
   "source": [
    "Korištenje subplot2grid"
   ]
  },
  {
   "cell_type": "code",
   "execution_count": 83,
   "metadata": {
    "id": "JF-dVGj3ExQm"
   },
   "outputs": [
    {
     "data": {
      "image/png": "[encoded data removed]",
      "text/plain": [
       "<Figure size 432x288 with 4 Axes>"
      ]
     },
     "metadata": {
      "needs_background": "light"
     },
     "output_type": "display_data"
    }
   ],
   "source": [
    "import matplotlib.pyplot as plt\n",
    "import numpy as np\n",
    "\n",
    "def random_plots():\n",
    "  xs = []\n",
    "  ys = []\n",
    "  \n",
    "  for i in range(20):\n",
    "    x = i\n",
    "    y = np.random.randint(10)\n",
    "    \n",
    "    xs.append(x)\n",
    "    ys.append(y)\n",
    "  \n",
    "  return xs, ys\n",
    "\n",
    "fig = plt.figure()\n",
    "ax1 = plt.subplot2grid((5, 2), (0, 0), rowspan=1, colspan=2)\n",
    "ax2 = plt.subplot2grid((5, 2), (1, 0), rowspan=3, colspan=2)\n",
    "ax3 = plt.subplot2grid((5, 2), (4, 0), rowspan=1, colspan=1)\n",
    "ax4 = plt.subplot2grid((5, 2), (4, 1), rowspan=1, colspan=1)\n",
    "\n",
    "x, y = random_plots()\n",
    "ax1.plot(x, y)\n",
    "\n",
    "x, y = random_plots()\n",
    "ax2.plot(x, y)\n",
    "\n",
    "x, y = random_plots()\n",
    "ax3.plot(x, y)\n",
    "\n",
    "x, y = random_plots()\n",
    "ax4.plot(x, y)\n",
    "\n",
    "plt.tight_layout()\n",
    "plt.show()"
   ]
  },
  {
   "cell_type": "markdown",
   "metadata": {
    "id": "A_xnqKsS27Kx"
   },
   "source": [
    "## VJEŽBE"
   ]
  },
  {
   "cell_type": "markdown",
   "metadata": {
    "id": "-F1Nna0827rg"
   },
   "source": [
    "#### 1. Generirajte numpy niz koji sadrži 50 prirodnih brojeva. Generirajte drugi niz koji je korijen svakog elementa prvog niza.\n",
    "\n",
    "> #### Ovo bi trebali napraviti na dva načina: <br/>  (i) Korištenjem math.sqrt() funkcije računanjem drugog korijena eksplicitno za svaki element korištenjem for petlje <br/> (ii) Korištenjem numpy ufunc np.sqrt().   \n",
    "\n",
    "#### Koristite python timeit funkciju da biste izračunali i isprintali vrijeme poterbno za izvršavanje (i) i (ii). Primjetite ubrzanje/usporenje u slučaju (ii)."
   ]
  },
  {
   "cell_type": "code",
   "execution_count": 90,
   "metadata": {
    "id": "9pJdHTry28XE"
   },
   "outputs": [],
   "source": [
    "import math\n",
    "array = np.random.randint(1,100, 50)\n"
   ]
  },
  {
   "cell_type": "code",
   "execution_count": 92,
   "metadata": {},
   "outputs": [
    {
     "data": {
      "text/plain": [
       "array([9.64365076, 5.        , 6.32455532, 4.35889894, 9.43398113,\n",
       "       9.79795897, 6.55743852, 2.23606798, 7.74596669, 8.        ,\n",
       "       5.        , 8.48528137, 9.05538514, 6.55743852, 2.        ,\n",
       "       9.05538514, 6.63324958, 7.14142843, 7.87400787, 9.94987437,\n",
       "       4.        , 3.31662479, 8.        , 8.48528137, 6.08276253,\n",
       "       8.        , 1.        , 9.69535971, 8.1240384 , 5.38516481,\n",
       "       4.69041576, 3.60555128, 7.07106781, 6.164414  , 8.        ,\n",
       "       7.74596669, 4.47213595, 8.        , 9.48683298, 5.09901951,\n",
       "       8.83176087, 7.41619849, 9.69535971, 7.28010989, 5.29150262,\n",
       "       9.74679434, 3.        , 9.05538514, 9.8488578 , 9.74679434])"
      ]
     },
     "execution_count": 92,
     "metadata": {},
     "output_type": "execute_result"
    }
   ],
   "source": [
    "np.array([math.sqrt(array[i]) for i in range (len(array))])"
   ]
  },
  {
   "cell_type": "code",
   "execution_count": 95,
   "metadata": {},
   "outputs": [
    {
     "name": "stdout",
     "output_type": "stream",
     "text": [
      "1.62 µs ± 6.31 ns per loop (mean ± std. dev. of 7 runs, 1000000 loops each)\n"
     ]
    }
   ],
   "source": [
    "%timeit np.sqrt(array)"
   ]
  },
  {
   "cell_type": "markdown",
   "metadata": {},
   "source": [
    "#### 2. Kreirajte niz veličine 10 x 10 sa svim elementima jednakim 0 kroz liniju koda te zamijenite svaki element na 'granici' niza sa brojem 100"
   ]
  },
  {
   "cell_type": "code",
   "execution_count": 126,
   "metadata": {
    "id": "BseRH1hd28-P"
   },
   "outputs": [
    {
     "data": {
      "text/plain": [
       "array([[100., 100., 100., 100., 100., 100., 100., 100., 100., 100.],\n",
       "       [100.,   0.,   0.,   0.,   0.,   0.,   0.,   0.,   0., 100.],\n",
       "       [100.,   0.,   0.,   0.,   0.,   0.,   0.,   0.,   0., 100.],\n",
       "       [100.,   0.,   0.,   0.,   0.,   0.,   0.,   0.,   0., 100.],\n",
       "       [100.,   0.,   0.,   0.,   0.,   0.,   0.,   0.,   0., 100.],\n",
       "       [100.,   0.,   0.,   0.,   0.,   0.,   0.,   0.,   0., 100.],\n",
       "       [100.,   0.,   0.,   0.,   0.,   0.,   0.,   0.,   0., 100.],\n",
       "       [100.,   0.,   0.,   0.,   0.,   0.,   0.,   0.,   0., 100.],\n",
       "       [100.,   0.,   0.,   0.,   0.,   0.,   0.,   0.,   0., 100.],\n",
       "       [100., 100., 100., 100., 100., 100., 100., 100., 100., 100.]])"
      ]
     },
     "execution_count": 126,
     "metadata": {},
     "output_type": "execute_result"
    }
   ],
   "source": [
    "np.pad(np.zeros((8, 8)), pad_width=1, constant_values=100)"
   ]
  },
  {
   "cell_type": "markdown",
   "metadata": {},
   "source": [
    "####  3. Kreirajte 1D niz nasumičnih brojeva te kreirajte listu indeksa temeljen na sortiranom nizu"
   ]
  },
  {
   "cell_type": "code",
   "execution_count": 116,
   "metadata": {
    "id": "FCp5Q96I29Uw"
   },
   "outputs": [
    {
     "name": "stdout",
     "output_type": "stream",
     "text": [
      "[ 9 86  1 33 29 13  6 86 85 91]\n"
     ]
    }
   ],
   "source": [
    "array = np.random.randint(1, 100, 10)\n",
    "print(array)"
   ]
  },
  {
   "cell_type": "code",
   "execution_count": 118,
   "metadata": {},
   "outputs": [
    {
     "data": {
      "text/plain": [
       "array([2, 6, 0, 5, 4, 3, 8, 1, 7, 9])"
      ]
     },
     "execution_count": 118,
     "metadata": {},
     "output_type": "execute_result"
    }
   ],
   "source": [
    "np.argsort(array)"
   ]
  },
  {
   "cell_type": "markdown",
   "metadata": {},
   "source": [
    "#### 4. Kreirajte numpy niz veličine 5 X 10 X 20 koji se sastoji od random int brojeva. Izračunajte srednju vrijednost niza preko različith osi. Nakon toga napravite sumu izračunatih srednjih vrijednosti. Kreirajte plot za svaki od tri rezultata te ih iscrtajte u obliku sublotova koji se nalaze u horizontalnom nizu. "
   ]
  },
  {
   "cell_type": "code",
   "execution_count": 132,
   "metadata": {
    "id": "lgRf4sIj2_Ze"
   },
   "outputs": [
    {
     "name": "stdout",
     "output_type": "stream",
     "text": [
      "[[[82 96 12 68 97 43 39 44 99 72 22 81 47 40  8  2 51 99 35 38]\n",
      "  [48 24 18 46  9 60 50 39 86 49 61 63  7 38 48 64 49 41 69 43]\n",
      "  [64 29 54 47 70 13 30 34 78 74 19 66 28 76 99 28 54 68 93 65]\n",
      "  [76 60 48 52 53 51 81 69 22 58 27 71 91 14 72 50 16 72  8 47]\n",
      "  [25 87 55 83 16 98 84 46 93 92 30 62 27 83 55 84 22 88 59 62]\n",
      "  [35 62 42 28  3 79 76 90 73 66 98 52 34 61 99 22  8 94 77 96]\n",
      "  [57  5 70 99 58 29 93 27  1 53 87 92 61 10 21 11 25 81 60 45]\n",
      "  [23 88 14  3 66 15 54 49 75 84 38 85 92 42 47 97 90 73 11 13]\n",
      "  [41 25 89 35 48 43 17 85  2 94 44 85 61 23 36 97 63 70 70 10]\n",
      "  [11 19 68 89 50 27 78  5 32 39 91 60 66  8  3  9 22 44 48 10]]\n",
      "\n",
      " [[26 59 30 60 22 49 46 75 68 17 50 94 27 97 37 22  9 93 59 40]\n",
      "  [70 17 49 55 60 67 47 17 16 85 65 99 88  8 11 91  9 40 15 84]\n",
      "  [54 92 64 58 13 84 17  1 33  8 59 44 18 28 92 76 16 12 98 99]\n",
      "  [12 25 83 69 74 78  8 84 44 72 15 50 91 19 18 13 43 49 37 88]\n",
      "  [96 73 51 98 73 56 23 54 95 68 35 70 50 98 45 56 19 39 17 28]\n",
      "  [88 52 73 16 38 65 43 66 68 26 38 71 84 97 27 30 19 17  6 10]\n",
      "  [87 33 54 29 27 55 42 17 15 18 63 21  5 18 20 11 83 71 78 58]\n",
      "  [67 77 59 62 76 28 85 22 75 66 96 98 55 90 68 73 90 85 56 72]\n",
      "  [28 96 40 75 15 87 98 30 55 93 29 18 10 93 65 35 80 39 24 33]\n",
      "  [ 7 25 66 72 36 67 27 24 71 26 55 76 61 94  4 43 31 50 26  1]]\n",
      "\n",
      " [[95 30 68 62 26 41 75 30 22  6 90 96 88  1 45 12  3 48 18 42]\n",
      "  [41 40 48 84  1 51 80 25 34 23 95 18 79 79  8  6 14 12 37 28]\n",
      "  [32 19 43 75 12 31 54 51 11 40 31 39 89 84 77 81 57 65 12 45]\n",
      "  [40  4 99 29  4 31 44 18 66 20 85 87 45 94 72 58 27 97 22 76]\n",
      "  [99 50 47  5 71 16 95 79 57 71 96 63 91 19 14 32 75 79 79 20]\n",
      "  [42 77 42 53 41 75 48 32 19 70 97 43 25 84 73 14 53 54 55 25]\n",
      "  [10 98  5 19 62  6 91 61 49 61 29 11  1 97 58 32 75 44 74  8]\n",
      "  [56 23 82 62 34 41  1 23  3 10 98 85 61 44 47 27 96 23 25 96]\n",
      "  [92 98 44 79 53 93 49 69 56 86 63 90 41 74 62  6 88 81 22 97]\n",
      "  [77 28 63 10 98 85 91 94 24 73 19 79 75 91 71 10 75 33 80 62]]\n",
      "\n",
      " [[68 17 38 47 23 99 99 51 79 31  6 92 73 65 42 18 91 94 53 97]\n",
      "  [ 5 57 27  9 74 31 85  7 56  1 44 86 74 13  7  7 87 61 51 35]\n",
      "  [73 29 36 63 16 14 24 22  2  6 87 18 38 29 99 59  4 58 78 61]\n",
      "  [22 53 62 30 18 93 76 71 50 38 33 13  3 68 78 27 32 90 93 22]\n",
      "  [97 58 10 73 39 74 73 54 57 95 13 31 28  9 65 73 22 83 97 17]\n",
      "  [42 91  8 69 15 58 72 70 45 39 22 36 47 98 40 62 62 69  6  8]\n",
      "  [56 48 70 24 64  7 50 81 29 61 88 53  6 55 26 86 86 27 64 40]\n",
      "  [71 37 85 26 45 85 19 15 49 25 42 72 82 70 74 77 76 97 80 97]\n",
      "  [85 79 67 80 94  9 87 68  6 16 11 10 63 15 80 45 96 73 43 57]\n",
      "  [25 85 19 78 83 23 44  4 20 16 22 23 29 33 19 94 67 40 53 19]]\n",
      "\n",
      " [[ 9 96 50 99  6  2 97 64 87 51 65 83 73 86 17 68 48 52 91 70]\n",
      "  [68  4 90 83 46 33  6  3 92 43 31 48 52 29 31  9 47 19 23  8]\n",
      "  [25 82 92 40 24 71 80 29 52 99 75 82 20 43 92 59 64  7 31 81]\n",
      "  [ 7 76 44 40 42 40 93 12 34 83 70 98 94 21  1 20 84 44 36 94]\n",
      "  [75 78  8 91 54 76  1 45 46 40 44 74 31 15 13 67 66 93 85 86]\n",
      "  [11 83 95 97 29 52 21  3 31 55 35 41 67 47 66 69 20 93 72  3]\n",
      "  [20 76 96 51 26 56 68 87 75 65 83 21 74 38 96 17 18 47 19 10]\n",
      "  [70 23 84 30 89 63 47 31 87  6 46  6 32 23 48 35 74 15 40 53]\n",
      "  [11 17  3 32 63 49 16  9 78 82 47 33  4 80  5 69 16  9 83 48]\n",
      "  [85 13 65 99 17 35  7 25 10  6 97  4 45 56 12 94 16 38 35 77]]]\n"
     ]
    }
   ],
   "source": [
    "array = np.random.randint(1, 100, (5, 10, 20))\n",
    "print(array)"
   ]
  },
  {
   "cell_type": "code",
   "execution_count": 138,
   "metadata": {
    "tags": []
   },
   "outputs": [
    {
     "name": "stdout",
     "output_type": "stream",
     "text": [
      "[501.2 522.6 525.8 556.6 434.6 506.8 546.2 422.2 485.4 495.6 537.2 578.6\n",
      " 506.6 519.4 462.6 449.4 487.6 574.  500.6 484.8]\n",
      "[501.2 522.6 525.8 556.6 434.6 506.8 546.2 422.2 485.4 495.6 537.2 578.6\n",
      " 506.6 519.4 462.6 449.4 487.6 574.  500.6 484.8]\n",
      "[501.2 522.6 525.8 556.6 434.6 506.8 546.2 422.2 485.4 495.6 537.2 578.6\n",
      " 506.6 519.4 462.6 449.4 487.6 574.  500.6 484.8]\n"
     ]
    },
    {
     "data": {
      "text/plain": [
       "[<matplotlib.lines.Line2D at 0x7f936d47c0f0>]"
      ]
     },
     "execution_count": 138,
     "metadata": {},
     "output_type": "execute_result"
    },
    {
     "data": {
      "image/png": "[encoded data removed]",
      "text/plain": [
       "<Figure size 432x288 with 3 Axes>"
      ]
     },
     "metadata": {
      "needs_background": "light"
     },
     "output_type": "display_data"
    }
   ],
   "source": [
    "import matplotlib.pyplot as plt\n",
    "x = np.mean(array, axis=0)\n",
    "x1= np.sum(x, axis = 0)\n",
    "print(x1)\n",
    "\n",
    "\n",
    "y = np.mean(array, axis=0)\n",
    "y1= np.sum(y, axis = 0)\n",
    "print(y1)\n",
    "\n",
    "z = np.mean(array, axis=0)\n",
    "z1= np.sum(z, axis = 0)\n",
    "print(z1)\n",
    "\n",
    "fig, ax=plt.subplots(1,3)\n",
    "ax[0].plot(x1, color ='r')\n",
    "ax[1].plot(y1, color ='g')\n",
    "ax[2].plot(z1, color ='b')\n"
   ]
  },
  {
   "cell_type": "markdown",
   "metadata": {
    "id": "FOwf22Gfy2U8"
   },
   "source": [
    "### LITERATURA\n",
    "\n",
    "1.   Datacamp NumPy [cheatsheet](https://s3.amazonaws.com/assets.datacamp.com/blog_assets/Numpy_Python_Cheat_Sheet.pdf)\n",
    "2.   [numpy for MATLAB users](https://docs.scipy.org/doc/numpy/user/numpy-for-matlab-users.html)\n",
    "3.  Numpy [reference](https://docs.scipy.org/doc/numpy/reference/)\n",
    "4. Matplotlib [docs](https://matplotlib.org/3.1.1/api/index.html)\n",
    "5. Matplotlib [tutorial](https://matplotlib.org/tutorials/index.html)\n",
    "\n",
    "\n"
   ]
  },
  {
   "cell_type": "code",
   "execution_count": null,
   "metadata": {},
   "outputs": [],
   "source": []
  }
 ],
 "metadata": {
  "colab": {
   "collapsed_sections": [],
   "provenance": []
  },
  "kernelspec": {
   "display_name": "Python 3",
   "language": "python",
   "name": "python3"
  },
  "language_info": {
   "codemirror_mode": {
    "name": "ipython",
    "version": 3
   },
   "file_extension": ".py",
   "mimetype": "text/x-python",
   "name": "python",
   "nbconvert_exporter": "python",
   "pygments_lexer": "ipython3",
   "version": "3.6.8"
  },
  "vscode": {
   "interpreter": {
    "hash": "b0fa6594d8f4cbf19f97940f81e996739fb7646882a419484c72d19e05852a7e"
   }
  }
 },
 "nbformat": 4,
 "nbformat_minor": 4
}
